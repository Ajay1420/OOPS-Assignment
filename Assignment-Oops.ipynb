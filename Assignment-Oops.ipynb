{
 "cells": [
  {
   "cell_type": "markdown",
   "id": "88d6fd4f-a457-4862-879c-3ffa934457b7",
   "metadata": {},
   "source": [
    "Q1. What is Abstraction in OOps? Explain with an example."
   ]
  },
  {
   "cell_type": "markdown",
   "id": "f2bb4b29-8b8d-4c00-994c-e034e519c427",
   "metadata": {},
   "source": [
    "Ans(1)-Abstraction in object-oriented programming refers to the process of hiding complex implementation details and providing a simplified interface to the user. It allows the user to interact with the system in a simplified manner without worrying about the complexity of the implementation.\n",
    "\n",
    "For example, consider a car. As a user, you don't need to know the inner workings of a car, such as how the engine works or how the wheels turn, in order to drive it. Instead, you are presented with a simplified interface in the form of a steering wheel, pedals, and a gear shift. This is abstraction in action.\n",
    "\n",
    "In programming, abstraction can be achieved through the use of abstract classes and interfaces. These provide a simplified interface for the user to interact with, while hiding the complexity of the implementation details. Here is an example of an abstract class in Python:"
   ]
  },
  {
   "cell_type": "code",
   "execution_count": 9,
   "id": "92c2bfa0-4b16-45f7-b837-1440b42a33a0",
   "metadata": {},
   "outputs": [],
   "source": [
    "from abc import ABC, abstractmethod\n",
    "\n",
    "class Animal(ABC):\n",
    "    @abstractmethod\n",
    "    def make_sound(self):\n",
    "        pass\n",
    "\n",
    "class Dog(Animal):\n",
    "    def make_sound(self):\n",
    "        print(\"Woof!\")\n",
    "\n",
    "class Cat(Animal):\n",
    "    def make_sound(self):\n",
    "        print(\"Meow!\")\n"
   ]
  },
  {
   "cell_type": "markdown",
   "id": "2fbabb6c-210c-4c44-8182-aaeae55fb60e",
   "metadata": {},
   "source": [
    "In this example, the Animal class is an abstract class that defines a single abstract method make_sound(). This method is implemented in the Dog and Cat classes, which are concrete classes that inherit from the Animal class. The user can interact with the Dog and Cat classes through their make_sound() methods, without needing to know the implementation details of the Animal class. This is an example of abstraction in action."
   ]
  },
  {
   "cell_type": "markdown",
   "id": "0ce9968d-2b8a-4520-b255-4479dacd5d86",
   "metadata": {},
   "source": [
    "---------------------------------------------------------------------------------------------------------------------------------------------------------------"
   ]
  },
  {
   "cell_type": "markdown",
   "id": "6c263901-ceaa-4eda-a739-ea46768ce3b0",
   "metadata": {},
   "source": [
    "Q2. Differentiate between Abstraction and Encapsulation. Explain with an example."
   ]
  },
  {
   "cell_type": "markdown",
   "id": "89319db0-1cbd-4a07-9d42-aced0868c5dd",
   "metadata": {},
   "source": [
    "Ans(2)-Abstraction and encapsulation are two important concepts in object-oriented programming that help to make code more organized, modular, and easier to manage. Although they are related, there are some key differences between the two:\n",
    "\n",
    "Abstraction refers to the process of hiding implementation details while showing only the necessary information to the user. It allows the user to interact with the system without needing to know how it works internally. In other words, abstraction is about defining a set of actions or behaviors that an object can perform, without exposing how those behaviors are implemented.\n",
    "\n",
    "Encapsulation, on the other hand, refers to the practice of bundling data and behavior together in a single entity (i.e., class) and preventing direct access to the internal data by outside code. Encapsulation provides data hiding, where the internal details of an object are kept private from the outside world, and only a defined set of methods or functions can access and modify the data.\n",
    "\n",
    "Here's an example that demonstrates the difference between the two:"
   ]
  },
  {
   "cell_type": "code",
   "execution_count": 11,
   "id": "f66eadc2-7f36-4574-8d6c-1c37e766158f",
   "metadata": {},
   "outputs": [],
   "source": [
    "# Example of Abstraction and Encapsulation\n",
    "\n",
    "class BankAccount:\n",
    "    def __init__(self, balance=0):\n",
    "        self.balance = balance\n",
    "\n",
    "    def deposit(self, amount):\n",
    "        self.balance += amount\n",
    "\n",
    "    def withdraw(self, amount):\n",
    "        if self.balance >= amount:\n",
    "            self.balance -= amount\n",
    "        else:\n",
    "            print(\"Insufficient funds!\")\n",
    "\n",
    "    def get_balance(self):\n",
    "        return self.balance\n"
   ]
  },
  {
   "cell_type": "markdown",
   "id": "7a41cbd6-0316-433e-9d11-14101556e19d",
   "metadata": {},
   "source": [
    "In this example, we have defined a BankAccount class that encapsulates the data (balance) and behavior (deposit, withdraw, and get_balance) of a bank account. The class provides a public interface to interact with the bank account by depositing, withdrawing, and checking the balance.\n",
    "\n",
    "However, the user does not need to know how the account works internally (i.e., the implementation details). The user only needs to know how to interact with the account by calling the methods provided by the class.\n",
    "\n",
    "This is an example of abstraction because we are hiding the implementation details (how the account works internally) from the user and only exposing the necessary information (the set of actions that can be performed on the account).\n",
    "\n",
    "At the same time, the class also demonstrates encapsulation because it bundles together the data and behavior of the account into a single entity and prevents direct access to the internal data by outside code. The data can only be accessed and modified using the methods provided by the class, which ensures the integrity of the account.\n"
   ]
  },
  {
   "cell_type": "markdown",
   "id": "1f9ae25f-890b-492c-a3f2-b83e5fdd6ebc",
   "metadata": {},
   "source": [
    "---------------------------------------------------------------------------------------------------------------------------------------------------------------"
   ]
  },
  {
   "cell_type": "markdown",
   "id": "63b0abfc-53e5-4622-a84d-599a65d99c94",
   "metadata": {},
   "source": [
    "Q3. What is abc module in python? Why is it used?"
   ]
  },
  {
   "cell_type": "markdown",
   "id": "1abe785e-9952-4045-ba14-f19eb9358b66",
   "metadata": {},
   "source": [
    "Ans(3)-The abc (Abstract Base Classes) module in Python is a module that provides a way to define abstract classes in Python. Abstract classes are classes that can't be instantiated on their own but serve as a blueprint for other classes to inherit from.\n",
    "\n",
    "The abc module is used to define abstract base classes, which define a set of methods that must be implemented by any concrete (i.e., non-abstract) subclass. This allows the creation of a common interface that can be used by multiple classes, providing a way to enforce a particular API across multiple implementations.\n",
    "\n",
    "The abc module provides a way to define abstract classes using the ABC class and the abstractmethod decorator. The ABC class is used to define a base class that cannot be instantiated, and the abstractmethod decorator is used to define abstract methods that must be implemented by any concrete subclass.\n",
    "\n",
    "Here's an example:"
   ]
  },
  {
   "cell_type": "code",
   "execution_count": 12,
   "id": "bf10a363-7cc0-4bbf-840e-c1cc2b357601",
   "metadata": {},
   "outputs": [
    {
     "name": "stdout",
     "output_type": "stream",
     "text": [
      "I walk on four legs\n",
      "I fly in the sky\n"
     ]
    }
   ],
   "source": [
    "from abc import ABC, abstractmethod\n",
    "\n",
    "class Animal(ABC):\n",
    "    @abstractmethod\n",
    "    def move(self):\n",
    "        pass\n",
    "\n",
    "class Dog(Animal):\n",
    "    def move(self):\n",
    "        print(\"I walk on four legs\")\n",
    "\n",
    "class Bird(Animal):\n",
    "    def move(self):\n",
    "        print(\"I fly in the sky\")\n",
    "\n",
    "d = Dog()\n",
    "d.move()\n",
    "\n",
    "b = Bird()\n",
    "b.move()\n"
   ]
  },
  {
   "cell_type": "markdown",
   "id": "8b6b329c-b3d8-4cff-9ba6-8339a79b5d79",
   "metadata": {},
   "source": [
    "In this example, Animal is an abstract base class that defines a single abstract method move(). The Dog and Bird classes are concrete subclasses of Animal that implement the move() method in their own way. By using the abc module to define the Animal class, we ensure that any subclass of Animal must implement the move() method, providing a consistent interface for different kinds of animals.\n",
    "\n",
    "\n",
    "\n"
   ]
  },
  {
   "cell_type": "markdown",
   "id": "4affabf8-db86-4eba-80b2-00abfc18667a",
   "metadata": {},
   "source": [
    "---------------------------------------------------------------------------------------------------------------------------------------------------------------"
   ]
  },
  {
   "cell_type": "markdown",
   "id": "ba1c483f-e568-4c32-87e3-c8243031bd0e",
   "metadata": {},
   "source": [
    "Q4. How can we achieve data abstraction?"
   ]
  },
  {
   "cell_type": "markdown",
   "id": "1c7ddb41-4ace-443a-8223-b5ea7197151c",
   "metadata": {},
   "source": [
    "Ans(4)-Data abstraction can be achieved in several ways in object-oriented programming, including:\n",
    "\n",
    "Using private and protected data members: By defining data members as private or protected in a class, we can restrict direct access to them from outside the class. This provides a level of data abstraction as the internal details of the class are hidden from the outside world.\n",
    "\n",
    "Using accessors and mutators:  Accessors and mutators (also known as getters and setters) are methods that provide controlled access to the data members of a class. They allow us to read and modify the values of private data members without exposing the internal implementation details of the class.\n",
    "\n",
    "Using abstract classes and interfaces: Abstract classes and interfaces define a set of abstract methods that must be implemented by their subclasses. This allows us to define a high-level interface for a group of related classes, without specifying the details of their internal implementation.\n",
    "\n",
    "Overall, data abstraction is achieved by providing a simplified view of the underlying data and operations, while hiding the details of the internal implementation. This helps to improve the maintainability, scalability, and reusability of the code."
   ]
  },
  {
   "cell_type": "markdown",
   "id": "ed6b7698-2376-42a5-bdc3-aaa8877dd777",
   "metadata": {},
   "source": [
    "---------------------------------------------------------------------------------------------------------------------------------------------------------------"
   ]
  },
  {
   "cell_type": "markdown",
   "id": "115b465e-e6c1-4b59-a54b-ba13668370e6",
   "metadata": {},
   "source": [
    "Q5. Can we create an instance of an abstract class? Explain your answer."
   ]
  },
  {
   "cell_type": "markdown",
   "id": "7cd39c49-5dd0-40c7-9d52-4cb01eb4fd6b",
   "metadata": {},
   "source": [
    "Ans(5)-No, we cannot create an instance of an abstract class.\n",
    "\n",
    "An abstract class is a class that cannot be instantiated on its own, and it is used as a base class for other classes to inherit from. It is meant to be a blueprint or a template for other classes to follow. An abstract class can contain one or more abstract methods, which are methods that are declared but not implemented. The implementation of these methods is left to the subclasses that inherit from the abstract class.\n",
    "\n",
    "Attempting to create an instance of an abstract class will result in a TypeError. This is because the abstract class is incomplete and not intended to be instantiated. Instead, it serves as a basis for creating other classes that will provide the missing functionality."
   ]
  },
  {
   "cell_type": "code",
   "execution_count": null,
   "id": "91eeb865-4ed9-4cca-94a6-240ec047f3ca",
   "metadata": {},
   "outputs": [],
   "source": []
  }
 ],
 "metadata": {
  "kernelspec": {
   "display_name": "Python 3 (ipykernel)",
   "language": "python",
   "name": "python3"
  },
  "language_info": {
   "codemirror_mode": {
    "name": "ipython",
    "version": 3
   },
   "file_extension": ".py",
   "mimetype": "text/x-python",
   "name": "python",
   "nbconvert_exporter": "python",
   "pygments_lexer": "ipython3",
   "version": "3.10.8"
  }
 },
 "nbformat": 4,
 "nbformat_minor": 5
}
